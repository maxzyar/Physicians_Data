{
 "cells": [
  {
   "cell_type": "markdown",
   "metadata": {
    "deletable": true,
    "editable": true
   },
   "source": [
    "# Physician datasets exploratory analysis"
   ]
  },
  {
   "cell_type": "markdown",
   "metadata": {
    "deletable": true,
    "editable": true
   },
   "source": [
    "The Physician Compare <a href=\"https://data.medicare.gov/data/physician-compare\">datasets</a> provide information about clinicians and facilities that are enrolled in Medicare. Please download all four flat, csv files. You may also find the \"Downloadable Database Dictionary\" under the \"Get supporting documents\" dropdown menu helpful when answering these questions."
   ]
  },
  {
   "cell_type": "code",
   "execution_count": 1,
   "metadata": {
    "collapsed": false,
    "deletable": true,
    "editable": true
   },
   "outputs": [
    {
     "name": "stderr",
     "output_type": "stream",
     "text": [
      "C:\\Users\\Maziar\\AppData\\Local\\Enthought\\Canopy\\edm\\envs\\User\\lib\\site-packages\\IPython\\core\\interactiveshell.py:2717: DtypeWarning: Columns (15,25,26,27,28,29,30,31,32,33,34,36,40) have mixed types. Specify dtype option on import or set low_memory=False.\n",
      "  interactivity=interactivity, compiler=compiler, result=result)\n"
     ]
    }
   ],
   "source": [
    "import pandas as pd\n",
    "import numpy as np\n",
    "import scipy.stats as stats\n",
    "import statistics\n",
    "\n",
    "ind = pd.read_csv('D:\\Data\\Physician_Compare_2015_Individual_EP_Public_Reporting___Performance_Scores.csv')\n",
    "natdl = pd.read_csv('D:\\Data\\Physician_Compare_National_Downloadable_File.csv')\n",
    "pubrep = pd.read_csv('D:\\Data\\Physician_Compare_2015_Group_Public_Reporting___Performance_Scores.csv')"
   ]
  },
  {
   "cell_type": "markdown",
   "metadata": {
    "deletable": true,
    "editable": true
   },
   "source": [
    "How many clinicians are in the dataset? Each clinician has a unique NPI and PAC ID. However, there may be errors in the data. For this question, you will need to determine whether to identify clinicians using their NPI or PAC ID (or both)."
   ]
  },
  {
   "cell_type": "code",
   "execution_count": 2,
   "metadata": {
    "collapsed": false,
    "deletable": true,
    "editable": true,
    "scrolled": true
   },
   "outputs": [
    {
     "name": "stdout",
     "output_type": "stream",
     "text": [
      "The number of unique PAC IDs corresponding to unique NPIs is:  1078908\n",
      "The number of unique NPIs corresponding to unique PAC IDs is:  1078908\n"
     ]
    }
   ],
   "source": [
    "clinit = natdl.append(ind)\n",
    "#print('The number of unique NPIs is: ', len(clinit['NPI'].unique()))\n",
    "#print('The number of unique PAC IDs is: ', len(clinit['PAC ID'].unique()))\n",
    "\n",
    "g = clinit.groupby('NPI')\n",
    "n=0 # The number of extra (incorrect) PAC IDs\n",
    "for NPI, g_df in g:\n",
    "    n += len(g_df['PAC ID'].unique()) - 1\n",
    "print('The number of unique PAC IDs corresponding to unique NPIs is: ', len(clinit['PAC ID'].unique())-n )\n",
    "g = clinit.groupby('PAC ID')\n",
    "n=0 # The number of extra (incorrect) NPIs\n",
    "for PAC_ID, g_df in g:\n",
    "    n += len(g_df['NPI'].unique()) - 1\n",
    "print('The number of unique NPIs corresponding to unique PAC IDs is: ', len(clinit['NPI'].unique())-n )"
   ]
  },
  {
   "cell_type": "markdown",
   "metadata": {
    "deletable": true,
    "editable": true
   },
   "source": [
    "What is the ratio of male to female clinicians?"
   ]
  },
  {
   "cell_type": "code",
   "execution_count": 3,
   "metadata": {
    "collapsed": false,
    "deletable": true,
    "editable": true
   },
   "outputs": [
    {
     "name": "stdout",
     "output_type": "stream",
     "text": [
      "The ratio of male to female clinicians is:  1.1742541194058955\n"
     ]
    }
   ],
   "source": [
    "g = natdl.groupby('Gender')\n",
    "print('The ratio of male to female clinicians is: ', len(g.get_group('M').NPI.unique())/len(g.get_group('F').NPI.unique()))"
   ]
  },
  {
   "cell_type": "markdown",
   "metadata": {
    "deletable": true,
    "editable": true
   },
   "source": [
    "What is the highest ratio of female clinicians to male clinicians with a given type of credential?"
   ]
  },
  {
   "cell_type": "code",
   "execution_count": 4,
   "metadata": {
    "collapsed": false,
    "deletable": true,
    "editable": true
   },
   "outputs": [
    {
     "name": "stdout",
     "output_type": "stream",
     "text": [
      "The highest ratio of female clinicians to male clinicians is in Credential CNM, which is equal to: 130.85714285714286\n"
     ]
    }
   ],
   "source": [
    "df_cre = natdl.copy()\n",
    "df_cre = df_cre.dropna(subset=['Credential'])\n",
    "df_cre = df_cre.drop_duplicates(subset='NPI', keep='first')\n",
    "g = df_cre.groupby(['Credential','Gender'])\n",
    "clinitians = []\n",
    "for cred, g_cre in g:\n",
    "    tup = cred + tuple([len(g.Credential.get_group(cred))])\n",
    "    clinitians.append(tup)\n",
    "ratios = []\n",
    "for tupf in clinitians:\n",
    "    if tupf[1] == 'F':\n",
    "        f = tupf[2]\n",
    "        for tupm in clinitians:\n",
    "            if (tupm[0] == tupf[0]) and (tupm[1] == 'M'):\n",
    "                m = tupm[2]\n",
    "                rat = tuple([tupf[0], f/m])\n",
    "                ratios.append(rat)\n",
    "ratios.sort(key=lambda tup: tup[1], reverse=True)\n",
    "print('The highest ratio of female clinicians to male clinicians is in Credential %s, which is equal to:' \n",
    "      % ratios[0][0], ratios[0][1])"
   ]
  },
  {
   "cell_type": "markdown",
   "metadata": {
    "deletable": true,
    "editable": true
   },
   "source": [
    "How many states have fewer than 10 healthcare facilities in this dataset? Include Washington D.C. and and U.S.territories in this calculation."
   ]
  },
  {
   "cell_type": "code",
   "execution_count": 5,
   "metadata": {
    "collapsed": false,
    "deletable": true,
    "editable": true
   },
   "outputs": [
    {
     "name": "stdout",
     "output_type": "stream",
     "text": [
      "Among all states and US territories (including Washington DC), 9 have fewer than 10 healthcare facilities\n"
     ]
    }
   ],
   "source": [
    "g = pubrep.groupby('State')\n",
    "\n",
    "stt = 0\n",
    "for state, g_df in g:\n",
    "    if len(g_df['Group PAC ID'].unique())<10:\n",
    "        stt += 1\n",
    "print(r'Among all states and US territories (including Washington DC), %d have fewer than 10 healthcare facilities' % stt)"
   ]
  },
  {
   "cell_type": "markdown",
   "metadata": {
    "deletable": true,
    "editable": true
   },
   "source": [
    "All measure performance rates are on a 0 to 100 scale. Compute the average measure performance rate for each clinician (across all measures). Consider the distribution of these average rates for individuals who have at least 10. What is the standard deviation of that distribution?"
   ]
  },
  {
   "cell_type": "code",
   "execution_count": null,
   "metadata": {
    "collapsed": false,
    "deletable": true,
    "editable": true
   },
   "outputs": [
    {
     "name": "stdout",
     "output_type": "stream",
     "text": [
      "The standard deviation of clinitians' performance rate is:  15.959754013918348\n"
     ]
    }
   ],
   "source": [
    "g = ind.groupby('NPI')\n",
    "indpr = []\n",
    "for NPI, g_df in g:\n",
    "    if len(g_df['Measure Performance Rate'])>=10:\n",
    "        indpr.append(g_df['Measure Performance Rate'].mean())\n",
    "print(\"The standard deviation of clinitians' performance rate is: \", statistics.stdev(indpr))"
   ]
  },
  {
   "cell_type": "markdown",
   "metadata": {
    "deletable": true,
    "editable": true
   },
   "source": [
    "What is the p-value of the linear regression of performance rates vs. graduation year? Consider the average performance rates (across all measures) of every doctor (MD) who graduated between 1973 and 2003 (inclusive). Only consider doctors who have at least 10 rates. For each graduation year, compute the mean of these rates. Assuming the relationship between graduation year and performance rates is linear, find the slope and determine if the relationship is significant. Return the p-value of the linear regression."
   ]
  },
  {
   "cell_type": "code",
   "execution_count": null,
   "metadata": {
    "collapsed": false,
    "deletable": true,
    "editable": true
   },
   "outputs": [],
   "source": [
    "natdl_gy = natdl[pd.notnull(natdl['Graduation year'])]\n",
    "natdl_gy = natdl_gy.drop_duplicates(subset='NPI', keep='first')\n",
    "pr_gry = pd.merge(ind[['NPI','Measure Performance Rate']], natdl_gy[['NPI','Graduation year']], on='NPI')\n",
    "g = pr_gry.groupby('NPI')\n",
    "prrt = []\n",
    "gryr = []\n",
    "for NPI, g_df in g:\n",
    "    if (len(g_df)>=10) and (g_df['Graduation year'].iloc[0]>=1973) and (g_df['Graduation year'].iloc[0]<=2003):\n",
    "        prrt.append(g_df['Measure Performance Rate'].mean())\n",
    "        gryr.append(g_df['Graduation year'].iloc[0])\n",
    "slope, intercept, r_value, p_value, std_err = stats.linregress(prrt,gryr)\n",
    "print('The p-value of performance rates vs. graduation year is: ', p_value)"
   ]
  },
  {
   "cell_type": "markdown",
   "metadata": {
    "deletable": true,
    "editable": true
   },
   "source": [
    "What is the absolute difference in the average performance rates between doctors (MD) and nurse practitioners (NP)? For each clinician, use his or her average performance rates across all measures. Furthermore, only consider individuals who have at least 10 rates."
   ]
  },
  {
   "cell_type": "code",
   "execution_count": null,
   "metadata": {
    "collapsed": false,
    "deletable": true,
    "editable": true
   },
   "outputs": [],
   "source": [
    "natdl_cr = natdl.drop_duplicates(subset='NPI', keep='first')\n",
    "mdnp = pd.merge(ind[['NPI','Measure Performance Rate']], natdl_cr[['NPI','Credential']], on='NPI')\n",
    "g = mdnp.groupby('Credential')\n",
    "md = g.get_group('MD')\n",
    "np = g.get_group('NP')\n",
    "md_pr = []\n",
    "np_pr = []\n",
    "g = md.groupby('NPI')\n",
    "for NPI, g_df in g:\n",
    "    if (len(g_df)>=10):\n",
    "        md_pr.append(g_df['Measure Performance Rate'].mean())\n",
    "g = np.groupby('NPI')\n",
    "for NPI, g_df in g:\n",
    "    if (len(g_df['Measure Performance Rate'])>=10):\n",
    "        np_pr.append(g_df['Measure Performance Rate'].mean())\n",
    "print('The difference between average performance rates of MDs vs. NPs is: ',\n",
    "      abs(sum(md_pr) / float(len(md_pr))-sum(np_pr) / float(len(np_pr))))"
   ]
  },
  {
   "cell_type": "markdown",
   "metadata": {
    "deletable": true,
    "editable": true
   },
   "source": [
    "What is the p-value of the difference in MD and NP performance rates from the previous question? Perform a two-sample t-test and compute the two-tailed p-value. Assume that the distributions are normal and have equal variance."
   ]
  },
  {
   "cell_type": "code",
   "execution_count": null,
   "metadata": {
    "collapsed": false,
    "deletable": true,
    "editable": true
   },
   "outputs": [],
   "source": [
    "print('The two-tailed p-value of the difference between MD and NP performance rates is: ',\n",
    "      stats.ttest_ind(a= md_pr, b= np_pr).pvalue)"
   ]
  }
 ],
 "metadata": {
  "celltoolbar": "Raw Cell Format",
  "kernelspec": {
   "display_name": "Python 3",
   "language": "python",
   "name": "python3"
  },
  "language_info": {
   "codemirror_mode": {
    "name": "ipython",
    "version": 3
   },
   "file_extension": ".py",
   "mimetype": "text/x-python",
   "name": "python",
   "nbconvert_exporter": "python",
   "pygments_lexer": "ipython3",
   "version": "3.5.2"
  }
 },
 "nbformat": 4,
 "nbformat_minor": 2
}
